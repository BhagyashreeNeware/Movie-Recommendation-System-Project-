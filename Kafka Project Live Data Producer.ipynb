{
 "cells": [
  {
   "cell_type": "code",
   "execution_count": 1,
   "id": "d4ffcb22",
   "metadata": {},
   "outputs": [
    {
     "name": "stdout",
     "output_type": "stream",
     "text": [
      "Requirement already satisfied: kafka-python in c:\\users\\bhagyashree\\anaconda3\\lib\\site-packages (2.0.2)\n"
     ]
    }
   ],
   "source": [
    "!pip install kafka-python"
   ]
  },
  {
   "cell_type": "code",
   "execution_count": 14,
   "id": "bb947524",
   "metadata": {},
   "outputs": [],
   "source": [
    "import pandas as pd\n",
    "from kafka import KafkaProducer\n",
    "from time import sleep\n",
    "from json import dumps\n",
    "import json"
   ]
  },
  {
   "cell_type": "code",
   "execution_count": 15,
   "id": "f3dda15f",
   "metadata": {},
   "outputs": [],
   "source": [
    "producer =KafkaProducer(bootstrap_servers = ['107.23.63.31:9092'],value_serializer = lambda x:dumps(x).encode('utf-8'))"
   ]
  },
  {
   "cell_type": "code",
   "execution_count": 16,
   "id": "ebff6feb",
   "metadata": {},
   "outputs": [],
   "source": [
    "df = pd.read_csv(r\"credits.csv\")"
   ]
  },
  {
   "cell_type": "code",
   "execution_count": 18,
   "id": "107f502e",
   "metadata": {},
   "outputs": [
    {
     "data": {
      "text/html": [
       "<div>\n",
       "<style scoped>\n",
       "    .dataframe tbody tr th:only-of-type {\n",
       "        vertical-align: middle;\n",
       "    }\n",
       "\n",
       "    .dataframe tbody tr th {\n",
       "        vertical-align: top;\n",
       "    }\n",
       "\n",
       "    .dataframe thead th {\n",
       "        text-align: right;\n",
       "    }\n",
       "</style>\n",
       "<table border=\"1\" class=\"dataframe\">\n",
       "  <thead>\n",
       "    <tr style=\"text-align: right;\">\n",
       "      <th></th>\n",
       "      <th>movie_id</th>\n",
       "      <th>title</th>\n",
       "      <th>cast</th>\n",
       "      <th>crew</th>\n",
       "    </tr>\n",
       "  </thead>\n",
       "  <tbody>\n",
       "    <tr>\n",
       "      <th>0</th>\n",
       "      <td>19995</td>\n",
       "      <td>Avatar</td>\n",
       "      <td>[{\"cast_id\": 242, \"character\": \"Jake Sully\", \"...</td>\n",
       "      <td>[{\"credit_id\": \"52fe48009251416c750aca23\", \"de...</td>\n",
       "    </tr>\n",
       "    <tr>\n",
       "      <th>1</th>\n",
       "      <td>285</td>\n",
       "      <td>Pirates of the Caribbean: At World's End</td>\n",
       "      <td>[{\"cast_id\": 4, \"character\": \"Captain Jack Spa...</td>\n",
       "      <td>[{\"credit_id\": \"52fe4232c3a36847f800b579\", \"de...</td>\n",
       "    </tr>\n",
       "    <tr>\n",
       "      <th>2</th>\n",
       "      <td>206647</td>\n",
       "      <td>Spectre</td>\n",
       "      <td>[{\"cast_id\": 1, \"character\": \"James Bond\", \"cr...</td>\n",
       "      <td>[{\"credit_id\": \"54805967c3a36829b5002c41\", \"de...</td>\n",
       "    </tr>\n",
       "    <tr>\n",
       "      <th>3</th>\n",
       "      <td>49026</td>\n",
       "      <td>The Dark Knight Rises</td>\n",
       "      <td>[{\"cast_id\": 2, \"character\": \"Bruce Wayne / Ba...</td>\n",
       "      <td>[{\"credit_id\": \"52fe4781c3a36847f81398c3\", \"de...</td>\n",
       "    </tr>\n",
       "    <tr>\n",
       "      <th>4</th>\n",
       "      <td>49529</td>\n",
       "      <td>John Carter</td>\n",
       "      <td>[{\"cast_id\": 5, \"character\": \"John Carter\", \"c...</td>\n",
       "      <td>[{\"credit_id\": \"52fe479ac3a36847f813eaa3\", \"de...</td>\n",
       "    </tr>\n",
       "    <tr>\n",
       "      <th>...</th>\n",
       "      <td>...</td>\n",
       "      <td>...</td>\n",
       "      <td>...</td>\n",
       "      <td>...</td>\n",
       "    </tr>\n",
       "    <tr>\n",
       "      <th>4798</th>\n",
       "      <td>9367</td>\n",
       "      <td>El Mariachi</td>\n",
       "      <td>[{\"cast_id\": 1, \"character\": \"El Mariachi\", \"c...</td>\n",
       "      <td>[{\"credit_id\": \"52fe44eec3a36847f80b280b\", \"de...</td>\n",
       "    </tr>\n",
       "    <tr>\n",
       "      <th>4799</th>\n",
       "      <td>72766</td>\n",
       "      <td>Newlyweds</td>\n",
       "      <td>[{\"cast_id\": 1, \"character\": \"Buzzy\", \"credit_...</td>\n",
       "      <td>[{\"credit_id\": \"52fe487dc3a368484e0fb013\", \"de...</td>\n",
       "    </tr>\n",
       "    <tr>\n",
       "      <th>4800</th>\n",
       "      <td>231617</td>\n",
       "      <td>Signed, Sealed, Delivered</td>\n",
       "      <td>[{\"cast_id\": 8, \"character\": \"Oliver O\\u2019To...</td>\n",
       "      <td>[{\"credit_id\": \"52fe4df3c3a36847f8275ecf\", \"de...</td>\n",
       "    </tr>\n",
       "    <tr>\n",
       "      <th>4801</th>\n",
       "      <td>126186</td>\n",
       "      <td>Shanghai Calling</td>\n",
       "      <td>[{\"cast_id\": 3, \"character\": \"Sam\", \"credit_id...</td>\n",
       "      <td>[{\"credit_id\": \"52fe4ad9c3a368484e16a36b\", \"de...</td>\n",
       "    </tr>\n",
       "    <tr>\n",
       "      <th>4802</th>\n",
       "      <td>25975</td>\n",
       "      <td>My Date with Drew</td>\n",
       "      <td>[{\"cast_id\": 3, \"character\": \"Herself\", \"credi...</td>\n",
       "      <td>[{\"credit_id\": \"58ce021b9251415a390165d9\", \"de...</td>\n",
       "    </tr>\n",
       "  </tbody>\n",
       "</table>\n",
       "<p>4803 rows × 4 columns</p>\n",
       "</div>"
      ],
      "text/plain": [
       "      movie_id                                     title  \\\n",
       "0        19995                                    Avatar   \n",
       "1          285  Pirates of the Caribbean: At World's End   \n",
       "2       206647                                   Spectre   \n",
       "3        49026                     The Dark Knight Rises   \n",
       "4        49529                               John Carter   \n",
       "...        ...                                       ...   \n",
       "4798      9367                               El Mariachi   \n",
       "4799     72766                                 Newlyweds   \n",
       "4800    231617                 Signed, Sealed, Delivered   \n",
       "4801    126186                          Shanghai Calling   \n",
       "4802     25975                         My Date with Drew   \n",
       "\n",
       "                                                   cast  \\\n",
       "0     [{\"cast_id\": 242, \"character\": \"Jake Sully\", \"...   \n",
       "1     [{\"cast_id\": 4, \"character\": \"Captain Jack Spa...   \n",
       "2     [{\"cast_id\": 1, \"character\": \"James Bond\", \"cr...   \n",
       "3     [{\"cast_id\": 2, \"character\": \"Bruce Wayne / Ba...   \n",
       "4     [{\"cast_id\": 5, \"character\": \"John Carter\", \"c...   \n",
       "...                                                 ...   \n",
       "4798  [{\"cast_id\": 1, \"character\": \"El Mariachi\", \"c...   \n",
       "4799  [{\"cast_id\": 1, \"character\": \"Buzzy\", \"credit_...   \n",
       "4800  [{\"cast_id\": 8, \"character\": \"Oliver O\\u2019To...   \n",
       "4801  [{\"cast_id\": 3, \"character\": \"Sam\", \"credit_id...   \n",
       "4802  [{\"cast_id\": 3, \"character\": \"Herself\", \"credi...   \n",
       "\n",
       "                                                   crew  \n",
       "0     [{\"credit_id\": \"52fe48009251416c750aca23\", \"de...  \n",
       "1     [{\"credit_id\": \"52fe4232c3a36847f800b579\", \"de...  \n",
       "2     [{\"credit_id\": \"54805967c3a36829b5002c41\", \"de...  \n",
       "3     [{\"credit_id\": \"52fe4781c3a36847f81398c3\", \"de...  \n",
       "4     [{\"credit_id\": \"52fe479ac3a36847f813eaa3\", \"de...  \n",
       "...                                                 ...  \n",
       "4798  [{\"credit_id\": \"52fe44eec3a36847f80b280b\", \"de...  \n",
       "4799  [{\"credit_id\": \"52fe487dc3a368484e0fb013\", \"de...  \n",
       "4800  [{\"credit_id\": \"52fe4df3c3a36847f8275ecf\", \"de...  \n",
       "4801  [{\"credit_id\": \"52fe4ad9c3a368484e16a36b\", \"de...  \n",
       "4802  [{\"credit_id\": \"58ce021b9251415a390165d9\", \"de...  \n",
       "\n",
       "[4803 rows x 4 columns]"
      ]
     },
     "execution_count": 18,
     "metadata": {},
     "output_type": "execute_result"
    }
   ],
   "source": [
    "df"
   ]
  },
  {
   "cell_type": "code",
   "execution_count": 19,
   "id": "04b5ca91",
   "metadata": {},
   "outputs": [
    {
     "data": {
      "text/plain": [
       "{'movie_id': {2353: 11457},\n",
       " 'title': {2353: 'Life as a House'},\n",
       " 'cast': {2353: '[{\"cast_id\": 1, \"character\": \"George Monroe\", \"credit_id\": \"52fe44439251416c7502e9ed\", \"gender\": 2, \"id\": 8945, \"name\": \"Kevin Kline\", \"order\": 0}, {\"cast_id\": 2, \"character\": \"Robin Kimball\", \"credit_id\": \"52fe44449251416c7502e9f1\", \"gender\": 1, \"id\": 5470, \"name\": \"Kristin Scott Thomas\", \"order\": 1}, {\"cast_id\": 3, \"character\": \"Sam Monroe\", \"credit_id\": \"52fe44449251416c7502e9f5\", \"gender\": 2, \"id\": 17244, \"name\": \"Hayden Christensen\", \"order\": 2}, {\"cast_id\": 4, \"character\": \"Alyssa Beck\", \"credit_id\": \"52fe44449251416c7502e9f9\", \"gender\": 1, \"id\": 20089, \"name\": \"Jena Malone\", \"order\": 3}, {\"cast_id\": 15, \"character\": \"Colleen Beck\", \"credit_id\": \"54eaa054c3a36836ea005d5b\", \"gender\": 1, \"id\": 2453, \"name\": \"Mary Steenburgen\", \"order\": 4}, {\"cast_id\": 11, \"character\": \"Josh\", \"credit_id\": \"52fe44449251416c7502ea21\", \"gender\": 2, \"id\": 19211, \"name\": \"Ian Somerhalder\", \"order\": 5}, {\"cast_id\": 12, \"character\": \"Officer Kurt Walker\", \"credit_id\": \"52fe44449251416c7502ea25\", \"gender\": 2, \"id\": 2154, \"name\": \"Scott Bakula\", \"order\": 6}, {\"cast_id\": 13, \"character\": \"Nurse\", \"credit_id\": \"52fe44449251416c7502ea29\", \"gender\": 0, \"id\": 78017, \"name\": \"Sandra Nelson\", \"order\": 7}, {\"cast_id\": 14, \"character\": \"David Dokos\", \"credit_id\": \"52fe44449251416c7502ea2d\", \"gender\": 2, \"id\": 8213, \"name\": \"Sam Robards\", \"order\": 8}]'},\n",
       " 'crew': {2353: '[{\"credit_id\": \"52fe44449251416c7502ea11\", \"department\": \"Sound\", \"gender\": 2, \"id\": 4140, \"job\": \"Original Music Composer\", \"name\": \"Mark Isham\"}, {\"credit_id\": \"52fe44449251416c7502e9ff\", \"department\": \"Directing\", \"gender\": 2, \"id\": 11472, \"job\": \"Director\", \"name\": \"Irwin Winkler\"}, {\"credit_id\": \"52fe44449251416c7502ea17\", \"department\": \"Camera\", \"gender\": 2, \"id\": 12235, \"job\": \"Director of Photography\", \"name\": \"Vilmos Zsigmond\"}, {\"credit_id\": \"52fe44449251416c7502ea0b\", \"department\": \"Production\", \"gender\": 2, \"id\": 18330, \"job\": \"Producer\", \"name\": \"Rob Cowan\"}, {\"credit_id\": \"52fe44449251416c7502ea05\", \"department\": \"Writing\", \"gender\": 2, \"id\": 28780, \"job\": \"Screenplay\", \"name\": \"Mark Andrus\"}, {\"credit_id\": \"52fe44449251416c7502ea1d\", \"department\": \"Editing\", \"gender\": 1, \"id\": 53645, \"job\": \"Editor\", \"name\": \"Julie Monroe\"}, {\"credit_id\": \"58a735f9c3a36847980000d3\", \"department\": \"Crew\", \"gender\": 2, \"id\": 1711837, \"job\": \"Transportation Co-Captain\", \"name\": \"James Brown\"}]'}}"
      ]
     },
     "execution_count": 19,
     "metadata": {},
     "output_type": "execute_result"
    }
   ],
   "source": [
    "df.sample(1).to_dict()"
   ]
  },
  {
   "cell_type": "code",
   "execution_count": 20,
   "id": "f4718118",
   "metadata": {},
   "outputs": [
    {
     "data": {
      "text/html": [
       "<div>\n",
       "<style scoped>\n",
       "    .dataframe tbody tr th:only-of-type {\n",
       "        vertical-align: middle;\n",
       "    }\n",
       "\n",
       "    .dataframe tbody tr th {\n",
       "        vertical-align: top;\n",
       "    }\n",
       "\n",
       "    .dataframe thead th {\n",
       "        text-align: right;\n",
       "    }\n",
       "</style>\n",
       "<table border=\"1\" class=\"dataframe\">\n",
       "  <thead>\n",
       "    <tr style=\"text-align: right;\">\n",
       "      <th></th>\n",
       "      <th>movie_id</th>\n",
       "      <th>title</th>\n",
       "      <th>cast</th>\n",
       "      <th>crew</th>\n",
       "    </tr>\n",
       "  </thead>\n",
       "  <tbody>\n",
       "    <tr>\n",
       "      <th>0</th>\n",
       "      <td>19995</td>\n",
       "      <td>Avatar</td>\n",
       "      <td>[{\"cast_id\": 242, \"character\": \"Jake Sully\", \"...</td>\n",
       "      <td>[{\"credit_id\": \"52fe48009251416c750aca23\", \"de...</td>\n",
       "    </tr>\n",
       "    <tr>\n",
       "      <th>1</th>\n",
       "      <td>285</td>\n",
       "      <td>Pirates of the Caribbean: At World's End</td>\n",
       "      <td>[{\"cast_id\": 4, \"character\": \"Captain Jack Spa...</td>\n",
       "      <td>[{\"credit_id\": \"52fe4232c3a36847f800b579\", \"de...</td>\n",
       "    </tr>\n",
       "    <tr>\n",
       "      <th>2</th>\n",
       "      <td>206647</td>\n",
       "      <td>Spectre</td>\n",
       "      <td>[{\"cast_id\": 1, \"character\": \"James Bond\", \"cr...</td>\n",
       "      <td>[{\"credit_id\": \"54805967c3a36829b5002c41\", \"de...</td>\n",
       "    </tr>\n",
       "    <tr>\n",
       "      <th>3</th>\n",
       "      <td>49026</td>\n",
       "      <td>The Dark Knight Rises</td>\n",
       "      <td>[{\"cast_id\": 2, \"character\": \"Bruce Wayne / Ba...</td>\n",
       "      <td>[{\"credit_id\": \"52fe4781c3a36847f81398c3\", \"de...</td>\n",
       "    </tr>\n",
       "    <tr>\n",
       "      <th>4</th>\n",
       "      <td>49529</td>\n",
       "      <td>John Carter</td>\n",
       "      <td>[{\"cast_id\": 5, \"character\": \"John Carter\", \"c...</td>\n",
       "      <td>[{\"credit_id\": \"52fe479ac3a36847f813eaa3\", \"de...</td>\n",
       "    </tr>\n",
       "  </tbody>\n",
       "</table>\n",
       "</div>"
      ],
      "text/plain": [
       "   movie_id                                     title  \\\n",
       "0     19995                                    Avatar   \n",
       "1       285  Pirates of the Caribbean: At World's End   \n",
       "2    206647                                   Spectre   \n",
       "3     49026                     The Dark Knight Rises   \n",
       "4     49529                               John Carter   \n",
       "\n",
       "                                                cast  \\\n",
       "0  [{\"cast_id\": 242, \"character\": \"Jake Sully\", \"...   \n",
       "1  [{\"cast_id\": 4, \"character\": \"Captain Jack Spa...   \n",
       "2  [{\"cast_id\": 1, \"character\": \"James Bond\", \"cr...   \n",
       "3  [{\"cast_id\": 2, \"character\": \"Bruce Wayne / Ba...   \n",
       "4  [{\"cast_id\": 5, \"character\": \"John Carter\", \"c...   \n",
       "\n",
       "                                                crew  \n",
       "0  [{\"credit_id\": \"52fe48009251416c750aca23\", \"de...  \n",
       "1  [{\"credit_id\": \"52fe4232c3a36847f800b579\", \"de...  \n",
       "2  [{\"credit_id\": \"54805967c3a36829b5002c41\", \"de...  \n",
       "3  [{\"credit_id\": \"52fe4781c3a36847f81398c3\", \"de...  \n",
       "4  [{\"credit_id\": \"52fe479ac3a36847f813eaa3\", \"de...  "
      ]
     },
     "execution_count": 20,
     "metadata": {},
     "output_type": "execute_result"
    }
   ],
   "source": [
    "df.head()"
   ]
  },
  {
   "cell_type": "code",
   "execution_count": 21,
   "id": "76dfe468",
   "metadata": {},
   "outputs": [
    {
     "data": {
      "text/plain": [
       "{'movie_id': {4156: 312793},\n",
       " 'title': {4156: 'The Walking Deceased'},\n",
       " 'cast': {4156: '[{\"cast_id\": 1, \"character\": \"Green Bay\", \"credit_id\": \"54f6000b925141240b000257\", \"gender\": 0, \"id\": 1434687, \"name\": \"Tim Ogletree\", \"order\": 0}, {\"cast_id\": 2, \"character\": \"Chicago\", \"credit_id\": \"55129756c3a3680296003634\", \"gender\": 2, \"id\": 211952, \"name\": \"Troy Ogletree\", \"order\": 1}, {\"cast_id\": 3, \"character\": \"Sheriff Lincoln\", \"credit_id\": \"5512976692514104ab0010e3\", \"gender\": 2, \"id\": 35701, \"name\": \"Dave Sheridan\", \"order\": 2}, {\"cast_id\": 4, \"character\": \"Romeo\", \"credit_id\": \"55129774c3a3681db200fa23\", \"gender\": 2, \"id\": 1445528, \"name\": \"Joey Oglesby\", \"order\": 3}, {\"cast_id\": 5, \"character\": \"Brooklyn\", \"credit_id\": \"55129782c3a36801bb00356a\", \"gender\": 1, \"id\": 1163789, \"name\": \"Sophia Taylor Ali\", \"order\": 4}, {\"cast_id\": 6, \"character\": \"Harlem\", \"credit_id\": \"5512978ec3a368029600363e\", \"gender\": 0, \"id\": 1445529, \"name\": \"Danielle Garcia\", \"order\": 5}, {\"cast_id\": 7, \"character\": \"Chris\", \"credit_id\": \"5512979c92514107010093fa\", \"gender\": 0, \"id\": 1445530, \"name\": \"Mason Dakota Galyon\", \"order\": 6}, {\"cast_id\": 8, \"character\": \"Isaac\", \"credit_id\": \"551297bcc3a36801bb00356e\", \"gender\": 1, \"id\": 886142, \"name\": \"Jacqui Holland\", \"order\": 7}, {\"cast_id\": 9, \"character\": \"Darnell\", \"credit_id\": \"551297c992514148dd001d83\", \"gender\": 2, \"id\": 60693, \"name\": \"Andrew Pozza\", \"order\": 8}, {\"cast_id\": 10, \"character\": \"Abraham\", \"credit_id\": \"551297d5c3a3683e7f0093fd\", \"gender\": 0, \"id\": 1445532, \"name\": \"Richard Lukens\", \"order\": 9}, {\"cast_id\": 11, \"character\": \"Sarah\", \"credit_id\": \"551297e1925141044500126f\", \"gender\": 0, \"id\": 1177703, \"name\": \"Martha Prentiss\", \"order\": 10}, {\"cast_id\": 12, \"character\": \"Mysterious Wandrer\", \"credit_id\": \"551297f89251410701009406\", \"gender\": 2, \"id\": 1445533, \"name\": \"Trenton Rostedt\", \"order\": 11}, {\"cast_id\": 15, \"character\": \"Shaun\", \"credit_id\": \"599d9ca1c3a368285e020da7\", \"gender\": 0, \"id\": 1875238, \"name\": \"Michael Jastroch\", \"order\": 12}, {\"cast_id\": 16, \"character\": \"Ed\", \"credit_id\": \"599d9e2b9251411ef301fff4\", \"gender\": 0, \"id\": 131420, \"name\": \"Wray Crawford\", \"order\": 13}, {\"cast_id\": 17, \"character\": \"Reporter\", \"credit_id\": \"599d9f31c3a3682848021cc0\", \"gender\": 0, \"id\": 1875240, \"name\": \"Cassandra Lazenby\", \"order\": 14}, {\"cast_id\": 18, \"character\": \"Umpire\", \"credit_id\": \"599da1d19251411efd0209f2\", \"gender\": 0, \"id\": 1875246, \"name\": \"Clint Hansen\", \"order\": 15}, {\"cast_id\": 19, \"character\": \"Zombie Stripper\", \"credit_id\": \"599da2d2c3a368285e021454\", \"gender\": 1, \"id\": 591375, \"name\": \"Deauxma\", \"order\": 16}, {\"cast_id\": 13, \"character\": \"Contortion Zombie Stripper\", \"credit_id\": \"55129812925141070100940c\", \"gender\": 0, \"id\": 1445534, \"name\": \"Tiffany Braden\", \"order\": 17}, {\"cast_id\": 20, \"character\": \"Z.A.L.A.R.P.E.R\", \"credit_id\": \"599da48fc3a36828a001da05\", \"gender\": 1, \"id\": 1875248, \"name\": \"Conley Michelle Wehner\", \"order\": 18}, {\"cast_id\": 21, \"character\": \"Z.A.L.A.R.P.E.R\", \"credit_id\": \"599da57fc3a368282c01e5a0\", \"gender\": 2, \"id\": 125165, \"name\": \"Philip Marlatt\", \"order\": 19}, {\"cast_id\": 22, \"character\": \"Lexie\", \"credit_id\": \"599da655c3a368285e021854\", \"gender\": 1, \"id\": 1818088, \"name\": \"Francis Casanova\", \"order\": 20}, {\"cast_id\": 23, \"character\": \"Barbie\", \"credit_id\": \"599da6dec3a368289202036b\", \"gender\": 1, \"id\": 1106543, \"name\": \"Natalie Makenna\", \"order\": 21}, {\"cast_id\": 24, \"character\": \"Zombie\", \"credit_id\": \"599da7259251411f51021560\", \"gender\": 1, \"id\": 1875251, \"name\": \"Billionna Olivia Reyes\", \"order\": 22}, {\"cast_id\": 25, \"character\": \"Zombie\", \"credit_id\": \"599da7369251411ef3020921\", \"gender\": 0, \"id\": 1875252, \"name\": \"Claire Tablizo\", \"order\": 23}, {\"cast_id\": 26, \"character\": \"Zombie\", \"credit_id\": \"599da7459251411f4a021059\", \"gender\": 1, \"id\": 1875253, \"name\": \"Emily Rose Tablizo\", \"order\": 24}, {\"cast_id\": 27, \"character\": \"Zombie\", \"credit_id\": \"599da758c3a3682892020405\", \"gender\": 0, \"id\": 1875255, \"name\": \"Jack Tablizo\", \"order\": 25}]'},\n",
       " 'crew': {4156: '[{\"credit_id\": \"54f5fff9c3a3683a65000252\", \"department\": \"Directing\", \"gender\": 0, \"id\": 1434686, \"job\": \"Director\", \"name\": \"Scott Dow\"}, {\"credit_id\": \"5512983e92514148dd001d8d\", \"department\": \"Writing\", \"gender\": 0, \"id\": 1434687, \"job\": \"Writer\", \"name\": \"Tim Ogletree\"}]'}}"
      ]
     },
     "execution_count": 21,
     "metadata": {},
     "output_type": "execute_result"
    }
   ],
   "source": [
    "df.sample(1).to_dict()"
   ]
  },
  {
   "cell_type": "code",
   "execution_count": 16,
   "id": "8a7a44f6",
   "metadata": {},
   "outputs": [
    {
     "data": {
      "text/plain": [
       "[{'movie_id': 10199,\n",
       "  'title': 'The Tale of Despereaux',\n",
       "  'cast': '[{\"cast_id\": 5, \"character\": \"Despereaux (voice)\", \"credit_id\": \"52fe43409251416c750093cf\", \"gender\": 2, \"id\": 4756, \"name\": \"Matthew Broderick\", \"order\": 0}, {\"cast_id\": 6, \"character\": \"Roscuro (voice)\", \"credit_id\": \"52fe43409251416c750093d3\", \"gender\": 2, \"id\": 4483, \"name\": \"Dustin Hoffman\", \"order\": 1}, {\"cast_id\": 4, \"character\": \"Princess Pea (voice)\", \"credit_id\": \"52fe43409251416c750093cb\", \"gender\": 1, \"id\": 10990, \"name\": \"Emma Watson\", \"order\": 2}, {\"cast_id\": 9, \"character\": \"Miggery Sow (voice)\", \"credit_id\": \"5463b310c3a3681255002bd4\", \"gender\": 0, \"id\": 30364, \"name\": \"Tracey Ullman\", \"order\": 3}, {\"cast_id\": 10, \"character\": \"Chef Andre (voice)\", \"credit_id\": \"5463b31f0e0a267803002b2c\", \"gender\": 2, \"id\": 8945, \"name\": \"Kevin Kline\", \"order\": 4}, {\"cast_id\": 7, \"character\": \"The Narrator (voice)\", \"credit_id\": \"52fe43409251416c750093d7\", \"gender\": 1, \"id\": 10205, \"name\": \"Sigourney Weaver\", \"order\": 5}, {\"cast_id\": 11, \"character\": \"Lester (voice)\", \"credit_id\": \"5463b32c0e0a267806002bea\", \"gender\": 2, \"id\": 3905, \"name\": \"William H. Macy\", \"order\": 6}, {\"cast_id\": 12, \"character\": \"Boldo (voice)\", \"credit_id\": \"5463b33ac3a3681252002aa4\", \"gender\": 2, \"id\": 2283, \"name\": \"Stanley Tucci\", \"order\": 7}, {\"cast_id\": 13, \"character\": \"Botticelli (voice)\", \"credit_id\": \"5463b34dc3a36812590029dc\", \"gender\": 2, \"id\": 8785, \"name\": \"Ciar\\\\u00e1n Hinds\", \"order\": 8}, {\"cast_id\": 14, \"character\": \"Gregory (voice)\", \"credit_id\": \"5463b369c3a3681247002a7e\", \"gender\": 2, \"id\": 1923, \"name\": \"Robbie Coltrane\", \"order\": 9}, {\"cast_id\": 15, \"character\": \"Furlough (voice)\", \"credit_id\": \"5463b3850e0a267810002b93\", \"gender\": 2, \"id\": 25147, \"name\": \"Tony Hale\", \"order\": 10}, {\"cast_id\": 16, \"character\": \"Antoinette (voice)\", \"credit_id\": \"5463b3a20e0a26780d002b94\", \"gender\": 1, \"id\": 4432, \"name\": \"Frances Conroy\", \"order\": 11}, {\"cast_id\": 17, \"character\": \"Mayor (voice)\", \"credit_id\": \"5463b3afc3a3681255002be8\", \"gender\": 2, \"id\": 8924, \"name\": \"Frank Langella\", \"order\": 12}, {\"cast_id\": 18, \"character\": \"Principal (voice)\", \"credit_id\": \"5463b3c40e0a26780a002c32\", \"gender\": 2, \"id\": 28633, \"name\": \"Richard Jenkins\", \"order\": 13}, {\"cast_id\": 19, \"character\": \"Hovis (voice)\", \"credit_id\": \"5463b3d50e0a26780d002b9c\", \"gender\": 2, \"id\": 1062, \"name\": \"Christopher Lloyd\", \"order\": 14}, {\"cast_id\": 26, \"character\": \"Pietro (voice)\", \"credit_id\": \"58ba8a4b925141607301dc2d\", \"gender\": 2, \"id\": 63474, \"name\": \"Charles Shaughnessy\", \"order\": 15}, {\"cast_id\": 47, \"character\": \"Queen (voice)\", \"credit_id\": \"58bad371c3a368668602088f\", \"gender\": 1, \"id\": 68740, \"name\": \"Patricia Cullen\", \"order\": 16}, {\"cast_id\": 48, \"character\": \"Teacher (voice)\", \"credit_id\": \"58bad381c3a368666b020fd0\", \"gender\": 1, \"id\": 148632, \"name\": \"McNally Sagal\", \"order\": 17}]',\n",
       "  'crew': '[{\"credit_id\": \"58bad317c3a368664d023ea1\", \"department\": \"Production\", \"gender\": 1, \"id\": 495, \"job\": \"Casting\", \"name\": \"Debra Zane\"}, {\"credit_id\": \"58bada06925141607b024e23\", \"department\": \"Crew\", \"gender\": 0, \"id\": 15841, \"job\": \"Thanks\", \"name\": \"William Goldenberg\"}, {\"credit_id\": \"58bad306925141126a0070fb\", \"department\": \"Sound\", \"gender\": 2, \"id\": 11166, \"job\": \"Music\", \"name\": \"William Ross\"}, {\"credit_id\": \"58bad9b4925141609e023c15\", \"department\": \"Sound\", \"gender\": 2, \"id\": 11166, \"job\": \"Orchestrator\", \"name\": \"William Ross\"}, {\"credit_id\": \"58bad096925141126a006eaa\", \"department\": \"Production\", \"gender\": 2, \"id\": 12087, \"job\": \"Executive Producer\", \"name\": \"David Lipman\"}, {\"credit_id\": \"58bad94fc3a368515d007bc6\", \"department\": \"Sound\", \"gender\": 0, \"id\": 12562, \"job\": \"ADR Editor\", \"name\": \"Anna MacKenzie\"}, {\"credit_id\": \"58bacf5d925141606b0255d1\", \"department\": \"Production\", \"gender\": 2, \"id\": 23964, \"job\": \"Producer\", \"name\": \"Gary Ross\"}, {\"credit_id\": \"58bacfc9925141606b025647\", \"department\": \"Writing\", \"gender\": 2, \"id\": 23964, \"job\": \"Screenplay\", \"name\": \"Gary Ross\"}, {\"credit_id\": \"58bad0abc3a368664d023c86\", \"department\": \"Production\", \"gender\": 0, \"id\": 38270, \"job\": \"Executive Producer\", \"name\": \"Robin Bissell\"}, {\"credit_id\": \"58bacf72c3a36866300219ba\", \"department\": \"Production\", \"gender\": 1, \"id\": 38271, \"job\": \"Producer\", \"name\": \"Allison Thomas\"}, {\"credit_id\": \"58bad9aa925141606b026090\", \"department\": \"Sound\", \"gender\": 0, \"id\": 43592, \"job\": \"Orchestrator\", \"name\": \"Conrad Pope\"}, {\"credit_id\": \"58bacfd7925141126a006dc0\", \"department\": \"Writing\", \"gender\": 2, \"id\": 49904, \"job\": \"Screenstory\", \"name\": \"Will McRobb\"}, {\"credit_id\": \"58bacfdf9251416073024552\", \"department\": \"Writing\", \"gender\": 2, \"id\": 49905, \"job\": \"Screenstory\", \"name\": \"Chris Viscardi\"}, {\"credit_id\": \"58bad07e9251416077024f74\", \"department\": \"Production\", \"gender\": 2, \"id\": 54419, \"job\": \"Executive Producer\", \"name\": \"Ryan Kavanaugh\"}, {\"credit_id\": \"58bad97ac3a36866a5022ea8\", \"department\": \"Production\", \"gender\": 1, \"id\": 59055, \"job\": \"ADR Voice Casting\", \"name\": \"Caitlin McKenna-Wilkinson\"}, {\"credit_id\": \"52fe43409251416c750093bb\", \"department\": \"Directing\", \"gender\": 0, \"id\": 64152, \"job\": \"Director\", \"name\": \"Robert Stevenhagen\"}, {\"credit_id\": \"52fe43409251416c750093c7\", \"department\": \"Directing\", \"gender\": 2, \"id\": 58897, \"job\": \"Director\", \"name\": \"Sam Fell\"}, {\"credit_id\": \"58bad23d9251416077025138\", \"department\": \"Camera\", \"gender\": 0, \"id\": 70042, \"job\": \"Director of Photography\", \"name\": \"Brad Blackbourn\"}, {\"credit_id\": \"58bad436925141126a007246\", \"department\": \"Writing\", \"gender\": 2, \"id\": 154705, \"job\": \"Story\", \"name\": \"Chris Butler\"}, {\"credit_id\": \"58bad2a9925141607b02466a\", \"department\": \"Editing\", \"gender\": 2, \"id\": 172733, \"job\": \"Editor\", \"name\": \"Mark Solomon\"}, {\"credit_id\": \"58bad826c3a3686686020d02\", \"department\": \"Visual Effects\", \"gender\": 0, \"id\": 240779, \"job\": \"Lead Animator\", \"name\": \"Michael Schlingmann\"}, {\"credit_id\": \"58bad217c3a3686686020735\", \"department\": \"Art\", \"gender\": 0, \"id\": 998572, \"job\": \"Supervising Art Director\", \"name\": \"Olivier Adam\"}, {\"credit_id\": \"58bacfa592514160840250fc\", \"department\": \"Writing\", \"gender\": 0, \"id\": 1030892, \"job\": \"Book\", \"name\": \"Kate DiCamillo\"}, {\"credit_id\": \"58bad3bf925141607b0247a9\", \"department\": \"Visual Effects\", \"gender\": 0, \"id\": 1198798, \"job\": \"Character Designer\", \"name\": \"Tim Watts\"}, {\"credit_id\": \"58bad502c3a36866a5022a16\", \"department\": \"Writing\", \"gender\": 0, \"id\": 1198798, \"job\": \"Story\", \"name\": \"Tim Watts\"}, {\"credit_id\": \"58bad82c9251416077025725\", \"department\": \"Visual Effects\", \"gender\": 0, \"id\": 1198798, \"job\": \"Lead Animator\", \"name\": \"Tim Watts\"}, {\"credit_id\": \"58bad65c925141606b025ce7\", \"department\": \"Production\", \"gender\": 0, \"id\": 1212071, \"job\": \"Casting Associate\", \"name\": \"Tannis Vallely\"}, {\"credit_id\": \"58bad92c9251416084025ace\", \"department\": \"Sound\", \"gender\": 0, \"id\": 1342657, \"job\": \"Sound Designer\", \"name\": \"Jon Title\"}, {\"credit_id\": \"58bad59ec3a368666b0211e2\", \"department\": \"Sound\", \"gender\": 0, \"id\": 1368864, \"job\": \"Sound Re-Recording Mixer\", \"name\": \"Chris Jenkins\"}, {\"credit_id\": \"58bad5ab92514160840256fc\", \"department\": \"Sound\", \"gender\": 0, \"id\": 1394130, \"job\": \"Sound Re-Recording Mixer\", \"name\": \"Frank A. Monta\\\\u00f1o\"}, {\"credit_id\": \"58bad956c3a368666b0215b4\", \"department\": \"Sound\", \"gender\": 0, \"id\": 1401631, \"job\": \"ADR Editor\", \"name\": \"Michelle Pazer\"}, {\"credit_id\": \"58bad5c4c3a368515d007799\", \"department\": \"Sound\", \"gender\": 0, \"id\": 1406616, \"job\": \"ADR Supervisor\", \"name\": \"Chris Jargo\"}, {\"credit_id\": \"58bad9a2c3a368666b0215fd\", \"department\": \"Sound\", \"gender\": 0, \"id\": 1406789, \"job\": \"Music Editor\", \"name\": \"Peter Myles\"}, {\"credit_id\": \"58bad8c5925141606b025f54\", \"department\": \"Editing\", \"gender\": 0, \"id\": 1408335, \"job\": \"Assistant Editor\", \"name\": \"Rob Woiwod\"}, {\"credit_id\": \"58bad7b3925141607b024b6e\", \"department\": \"Visual Effects\", \"gender\": 0, \"id\": 1448043, \"job\": \"Lead Animator\", \"name\": \"Phil Dale\"}, {\"credit_id\": \"58bad809925141609b0245f8\", \"department\": \"Visual Effects\", \"gender\": 0, \"id\": 1448047, \"job\": \"Lead Animator\", \"name\": \"Peter Dodd\"}, {\"credit_id\": \"58bad449c3a368515d007613\", \"department\": \"Writing\", \"gender\": 0, \"id\": 1451298, \"job\": \"Story\", \"name\": \"Brendan Houghton\"}, {\"credit_id\": \"58bad4b592514160770253c1\", \"department\": \"Writing\", \"gender\": 0, \"id\": 1453606, \"job\": \"Story\", \"name\": \"Dean Roberts\"}, {\"credit_id\": \"58bad4bfc3a36866860209bc\", \"department\": \"Writing\", \"gender\": 1, \"id\": 1453607, \"job\": \"Story\", \"name\": \"Sharon Smith\"}, {\"credit_id\": \"555ff2b19251417e4f0043b1\", \"department\": \"Writing\", \"gender\": 0, \"id\": 1453612, \"job\": \"Storyboard\", \"name\": \"Gabriele Zucchelli\"}, {\"credit_id\": \"58bad227925141606b0258a5\", \"department\": \"Visual Effects\", \"gender\": 0, \"id\": 1453612, \"job\": \"Animation Supervisor\", \"name\": \"Gabriele Zucchelli\"}, {\"credit_id\": \"58bad509925141607b024906\", \"department\": \"Writing\", \"gender\": 0, \"id\": 1453612, \"job\": \"Story\", \"name\": \"Gabriele Zucchelli\"}, {\"credit_id\": \"58bad8159251416077025709\", \"department\": \"Visual Effects\", \"gender\": 0, \"id\": 1453989, \"job\": \"Lead Animator\", \"name\": \"Matt Everitt\"}, {\"credit_id\": \"58bad962c3a36851cd007a04\", \"department\": \"Sound\", \"gender\": 0, \"id\": 1461169, \"job\": \"First Assistant Sound Editor\", \"name\": \"Gayle Wesley\"}, {\"credit_id\": \"58bad940c3a3686686020e41\", \"department\": \"Sound\", \"gender\": 0, \"id\": 1473444, \"job\": \"Sound Effects Editor\", \"name\": \"Paul Aulicino\"}, {\"credit_id\": \"58bad99a925141607b024db8\", \"department\": \"Sound\", \"gender\": 1, \"id\": 1530166, \"job\": \"Music Supervisor\", \"name\": \"Kathy Nelson\"}, {\"credit_id\": \"5722ab0a9251413eac000b92\", \"department\": \"Editing\", \"gender\": 0, \"id\": 1531911, \"job\": \"Editor\", \"name\": \"Claire Dodgson\"}, {\"credit_id\": \"58bad516c3a368666b021164\", \"department\": \"Editing\", \"gender\": 0, \"id\": 1531911, \"job\": \"Associate Editor\", \"name\": \"Claire Dodgson\"}, {\"credit_id\": \"58bad9bdc3a368515d007c5d\", \"department\": \"Sound\", \"gender\": 0, \"id\": 1533568, \"job\": \"Orchestrator\", \"name\": \"Jerome Leroy\"}, {\"credit_id\": \"58bad5479251416073024ae0\", \"department\": \"Editing\", \"gender\": 0, \"id\": 1548410, \"job\": \"First Assistant Editor\", \"name\": \"Steve Pang\"}, {\"credit_id\": \"58bad9f6925141609b024830\", \"department\": \"Editing\", \"gender\": 0, \"id\": 1552873, \"job\": \"Color Timer\", \"name\": \"Terry Claborn\"}, {\"credit_id\": \"58bad441c3a368664d023fe5\", \"department\": \"Writing\", \"gender\": 0, \"id\": 1554432, \"job\": \"Story\", \"name\": \"Gary Dunn\"}, {\"credit_id\": \"58bad81dc3a368664d0243ba\", \"department\": \"Visual Effects\", \"gender\": 0, \"id\": 1591575, \"job\": \"Lead Animator\", \"name\": \"Jeremy Lazare\"}, {\"credit_id\": \"58bad48fc3a3686630021e87\", \"department\": \"Writing\", \"gender\": 0, \"id\": 1629540, \"job\": \"Story\", \"name\": \"Len Morganti\"}, {\"credit_id\": \"58bad96bc3a368668f01f480\", \"department\": \"Crew\", \"gender\": 0, \"id\": 1719766, \"job\": \"Post Production Supervisor\", \"name\": \"Cheryl Murphy\"}, {\"credit_id\": \"58bad5b5c3a368664d024137\", \"department\": \"Sound\", \"gender\": 0, \"id\": 1741755, \"job\": \"Sound Designer\", \"name\": \"Ian Bender\"}, {\"credit_id\": \"58bad073c3a368668f01ec7f\", \"department\": \"Production\", \"gender\": 0, \"id\": 1769885, \"job\": \"Executive Producer\", \"name\": \"William Sargent\"}, {\"credit_id\": \"58bad167c3a368668f01ed44\", \"department\": \"Production\", \"gender\": 0, \"id\": 1769887, \"job\": \"Co-Producer\", \"name\": \"Tracy Shaw\"}, {\"credit_id\": \"58bad1db925141607b02459f\", \"department\": \"Art\", \"gender\": 0, \"id\": 1769889, \"job\": \"Production Design\", \"name\": \"Evgeni Tomov\"}, {\"credit_id\": \"58bad3b3c3a368515d007576\", \"department\": \"Visual Effects\", \"gender\": 0, \"id\": 1769889, \"job\": \"Character Designer\", \"name\": \"Evgeni Tomov\"}, {\"credit_id\": \"58bad236c3a3686630021c47\", \"department\": \"Visual Effects\", \"gender\": 0, \"id\": 1769892, \"job\": \"Visual Effects Supervisor\", \"name\": \"Barry Armour\"}, {\"credit_id\": \"58bad3acc3a368664d023f50\", \"department\": \"Visual Effects\", \"gender\": 0, \"id\": 1769895, \"job\": \"Character Designer\", \"name\": \"Nikolay Neykov\"}, {\"credit_id\": \"58bad3ca925141609e02360d\", \"department\": \"Visual Effects\", \"gender\": 0, \"id\": 1769896, \"job\": \"Character Designer\", \"name\": \"Nelson Yokota\"}, {\"credit_id\": \"58bad42d9251416084025565\", \"department\": \"Writing\", \"gender\": 0, \"id\": 1769899, \"job\": \"Story\", \"name\": \"Arshad Baig\"}, {\"credit_id\": \"58bad4f7c3a368668f01f05f\", \"department\": \"Writing\", \"gender\": 0, \"id\": 1769900, \"job\": \"Story\", \"name\": \"Darren Vandenburg\"}, {\"credit_id\": \"58bad530925141608402567f\", \"department\": \"Editing\", \"gender\": 0, \"id\": 1769902, \"job\": \"First Assistant Editor\", \"name\": \"Aidan O\\'Brien\"}, {\"credit_id\": \"58bad565c3a36866a5022a73\", \"department\": \"Editing\", \"gender\": 0, \"id\": 1769903, \"job\": \"Assistant Editor\", \"name\": \"Erika Gonzales\"}, {\"credit_id\": \"58bad5d6c3a368664d024153\", \"department\": \"Production\", \"gender\": 0, \"id\": 1769914, \"job\": \"Associate Producer\", \"name\": \"Celia Boydell\"}, {\"credit_id\": \"58bad609c3a3686630021ff2\", \"department\": \"Production\", \"gender\": 0, \"id\": 1769916, \"job\": \"Associate Producer\", \"name\": \"Peiyu Foley\"}, {\"credit_id\": \"58bad61ac3a3686630022010\", \"department\": \"Production\", \"gender\": 0, \"id\": 1769917, \"job\": \"Associate Producer\", \"name\": \"Casey Crowe\"}, {\"credit_id\": \"58bad62bc3a368668f01f170\", \"department\": \"Production\", \"gender\": 0, \"id\": 1769919, \"job\": \"Associate Producer\", \"name\": \"Jamal McLemore\"}, {\"credit_id\": \"58bad668c3a36866a5022b62\", \"department\": \"Production\", \"gender\": 0, \"id\": 1769921, \"job\": \"Line Producer\", \"name\": \"Tripp Hudson\"}, {\"credit_id\": \"58bad796c3a368515d007984\", \"department\": \"Visual Effects\", \"gender\": 0, \"id\": 1769923, \"job\": \"Lead Animator\", \"name\": \"Bart Boirot\"}, {\"credit_id\": \"58bad7aac3a36851cd0077ff\", \"department\": \"Visual Effects\", \"gender\": 0, \"id\": 1769924, \"job\": \"Lead Animator\", \"name\": \"Rahul Dabholkar\"}, {\"credit_id\": \"58bad7d6c3a36866300221ba\", \"department\": \"Visual Effects\", \"gender\": 0, \"id\": 1769925, \"job\": \"Lead Animator\", \"name\": \"Jos\\\\u00e9 Luis de Lucas\"}, {\"credit_id\": \"58bad9e5925141606b0260cd\", \"department\": \"Art\", \"gender\": 0, \"id\": 1769936, \"job\": \"Title Designer\", \"name\": \"Bruce Schluter\"}]'}]"
      ]
     },
     "execution_count": 16,
     "metadata": {},
     "output_type": "execute_result"
    }
   ],
   "source": [
    "df.sample(1).to_dict(orient = 'records')"
   ]
  },
  {
   "cell_type": "code",
   "execution_count": 17,
   "id": "78c5bef3",
   "metadata": {},
   "outputs": [
    {
     "data": {
      "text/plain": [
       "{'movie_id': 9398,\n",
       " 'title': 'Zoolander',\n",
       " 'cast': '[{\"cast_id\": 1, \"character\": \"Derek Zoolander\", \"credit_id\": \"52fe44f2c3a36847f80b3813\", \"gender\": 2, \"id\": 7399, \"name\": \"Ben Stiller\", \"order\": 0}, {\"cast_id\": 2, \"character\": \"Hansel\", \"credit_id\": \"52fe44f2c3a36847f80b3817\", \"gender\": 2, \"id\": 887, \"name\": \"Owen Wilson\", \"order\": 1}, {\"cast_id\": 3, \"character\": \"Matilda Jeffries\", \"credit_id\": \"52fe44f2c3a36847f80b381b\", \"gender\": 1, \"id\": 15286, \"name\": \"Christine Taylor\", \"order\": 2}, {\"cast_id\": 4, \"character\": \"Mugatu\", \"credit_id\": \"52fe44f2c3a36847f80b381f\", \"gender\": 2, \"id\": 23659, \"name\": \"Will Ferrell\", \"order\": 3}, {\"cast_id\": 5, \"character\": \"Katinka\", \"credit_id\": \"52fe44f2c3a36847f80b3823\", \"gender\": 1, \"id\": 63, \"name\": \"Milla Jovovich\", \"order\": 4}, {\"cast_id\": 6, \"character\": \"Maury Ballstein\", \"credit_id\": \"52fe44f2c3a36847f80b3827\", \"gender\": 2, \"id\": 26042, \"name\": \"Jerry Stiller\", \"order\": 5}, {\"cast_id\": 7, \"character\": \"J.P. Prewitt\", \"credit_id\": \"52fe44f2c3a36847f80b382b\", \"gender\": 2, \"id\": 12640, \"name\": \"David Duchovny\", \"order\": 6}, {\"cast_id\": 8, \"character\": \"Larry Zoolander\", \"credit_id\": \"52fe44f2c3a36847f80b382f\", \"gender\": 2, \"id\": 10127, \"name\": \"Jon Voight\", \"order\": 7}, {\"cast_id\": 62, \"character\": \"Scrappy Zoolander\", \"credit_id\": \"52fe44f3c3a36847f80b392b\", \"gender\": 2, \"id\": 52860, \"name\": \"Judah Friedlander\", \"order\": 8}, {\"cast_id\": 63, \"character\": \"Todd\", \"credit_id\": \"52fe44f3c3a36847f80b392f\", \"gender\": 0, \"id\": 203809, \"name\": \"Nathan Lee Graham\", \"order\": 9}, {\"cast_id\": 74, \"character\": \"Brint\", \"credit_id\": \"566cb40992514169e20097d7\", \"gender\": 2, \"id\": 1266372, \"name\": \"Alexandre Manning\", \"order\": 10}, {\"cast_id\": 75, \"character\": \"Rufus\", \"credit_id\": \"566cb42ac3a36826470092d3\", \"gender\": 0, \"id\": 1548237, \"name\": \"Asio Highsmith\", \"order\": 11}, {\"cast_id\": 61, \"character\": \"Meekus\", \"credit_id\": \"52fe44f3c3a36847f80b3927\", \"gender\": 2, \"id\": 28846, \"name\": \"Alexander Skarsg\\\\u00e5rd\", \"order\": 12}, {\"cast_id\": 9, \"character\": \"Himself\", \"credit_id\": \"52fe44f2c3a36847f80b3833\", \"gender\": 2, \"id\": 33663, \"name\": \"Donald Trump\", \"order\": 13}, {\"cast_id\": 10, \"character\": \"Himself\", \"credit_id\": \"52fe44f2c3a36847f80b3837\", \"gender\": 2, \"id\": 2224, \"name\": \"Christian Slater\", \"order\": 14}, {\"cast_id\": 207, \"character\": \"Tom Ford\", \"credit_id\": \"59a2ecb3925141779a0442ad\", \"gender\": 2, \"id\": 120615, \"name\": \"Tom Ford\", \"order\": 15}, {\"cast_id\": 30, \"character\": \"Himself\", \"credit_id\": \"52fe44f2c3a36847f80b38ab\", \"gender\": 2, \"id\": 9777, \"name\": \"Cuba Gooding Jr.\", \"order\": 17}, {\"cast_id\": 31, \"character\": \"Himself\", \"credit_id\": \"52fe44f2c3a36847f80b38af\", \"gender\": 2, \"id\": 77067, \"name\": \"Steve Kmetko\", \"order\": 18}, {\"cast_id\": 32, \"character\": \"Himself\", \"credit_id\": \"52fe44f2c3a36847f80b38b3\", \"gender\": 0, \"id\": 77068, \"name\": \"Tommy Hilfiger\", \"order\": 19}, {\"cast_id\": 33, \"character\": \"Herself\", \"credit_id\": \"52fe44f2c3a36847f80b38b7\", \"gender\": 1, \"id\": 524, \"name\": \"Natalie Portman\", \"order\": 20}, {\"cast_id\": 34, \"character\": \"Himself\", \"credit_id\": \"52fe44f2c3a36847f80b38bb\", \"gender\": 2, \"id\": 77069, \"name\": \"Lenny Kravitz\", \"order\": 21}, {\"cast_id\": 35, \"character\": \"Herself\", \"credit_id\": \"52fe44f2c3a36847f80b38bf\", \"gender\": 1, \"id\": 77070, \"name\": \"Gwen Stefani\", \"order\": 22}, {\"cast_id\": 36, \"character\": \"Herself\", \"credit_id\": \"52fe44f2c3a36847f80b38c3\", \"gender\": 1, \"id\": 10584, \"name\": \"Heidi Klum\", \"order\": 23}, {\"cast_id\": 37, \"character\": \"Himself\", \"credit_id\": \"52fe44f2c3a36847f80b38c7\", \"gender\": 2, \"id\": 77071, \"name\": \"Mark Ronson\", \"order\": 24}, {\"cast_id\": 38, \"character\": \"Herself\", \"credit_id\": \"52fe44f2c3a36847f80b38cb\", \"gender\": 1, \"id\": 38406, \"name\": \"Paris Hilton\", \"order\": 25}, {\"cast_id\": 39, \"character\": \"Himself\", \"credit_id\": \"52fe44f2c3a36847f80b38cf\", \"gender\": 2, \"id\": 7487, \"name\": \"David Bowie\", \"order\": 26}, {\"cast_id\": 40, \"character\": \"Himself\", \"credit_id\": \"52fe44f2c3a36847f80b38d3\", \"gender\": 2, \"id\": 77072, \"name\": \"Tyson Beckford\", \"order\": 27}, {\"cast_id\": 41, \"character\": \"Himself\", \"credit_id\": \"52fe44f2c3a36847f80b38d7\", \"gender\": 2, \"id\": 29783, \"name\": \"Fred Durst\", \"order\": 28}, {\"cast_id\": 42, \"character\": \"Himself\", \"credit_id\": \"52fe44f2c3a36847f80b38db\", \"gender\": 2, \"id\": 77073, \"name\": \"Lance Bass\", \"order\": 29}, {\"cast_id\": 43, \"character\": \"Herself\", \"credit_id\": \"52fe44f2c3a36847f80b38df\", \"gender\": 1, \"id\": 57553, \"name\": \"Lil\\' Kim\", \"order\": 30}, {\"cast_id\": 44, \"character\": \"Himself\", \"credit_id\": \"52fe44f2c3a36847f80b38e3\", \"gender\": 2, \"id\": 52865, \"name\": \"Garry Shandling\", \"order\": 31}, {\"cast_id\": 56, \"character\": \"Himself\", \"credit_id\": \"52fe44f2c3a36847f80b3913\", \"gender\": 2, \"id\": 10822, \"name\": \"Stephen Dorff\", \"order\": 32}, {\"cast_id\": 55, \"character\": \"Herself\", \"credit_id\": \"52fe44f2c3a36847f80b390f\", \"gender\": 1, \"id\": 3664, \"name\": \"Sandra Bernhard\", \"order\": 33}, {\"cast_id\": 45, \"character\": \"Herself\", \"credit_id\": \"52fe44f2c3a36847f80b38e7\", \"gender\": 2, \"id\": 33163, \"name\": \"Claudia Schiffer\", \"order\": 34}, {\"cast_id\": 46, \"character\": \"Herself\", \"credit_id\": \"52fe44f2c3a36847f80b38eb\", \"gender\": 1, \"id\": 77074, \"name\": \"Veronica Webb\", \"order\": 35}, {\"cast_id\": 47, \"character\": \"Himself\", \"credit_id\": \"52fe44f2c3a36847f80b38ef\", \"gender\": 2, \"id\": 526, \"name\": \"Lukas Haas\", \"order\": 36}, {\"cast_id\": 76, \"character\": \"Herself\", \"credit_id\": \"566cb56cc3a368264700930d\", \"gender\": 0, \"id\": 588726, \"name\": \"Carmen Kass\", \"order\": 37}, {\"cast_id\": 77, \"character\": \"Herself\", \"credit_id\": \"566cb5a1c3a3682e98009078\", \"gender\": 0, \"id\": 1548238, \"name\": \"Frankie Rayder\", \"order\": 38}, {\"cast_id\": 79, \"character\": \"Archie\", \"credit_id\": \"566cb9689251415ec50099f6\", \"gender\": 2, \"id\": 175511, \"name\": \"Matt Levin\", \"order\": 39}, {\"cast_id\": 48, \"character\": \"Evil DJ\", \"credit_id\": \"52fe44f2c3a36847f80b38f3\", \"gender\": 2, \"id\": 15009, \"name\": \"Justin Theroux\", \"order\": 40}, {\"cast_id\": 49, \"character\": \"Olga the Masseuse\", \"credit_id\": \"52fe44f2c3a36847f80b38f7\", \"gender\": 2, \"id\": 43120, \"name\": \"Andy Dick\", \"order\": 41}, {\"cast_id\": 80, \"character\": \"Prime Minister of Malaysia\", \"credit_id\": \"566cb9cbc3a3682e98009193\", \"gender\": 0, \"id\": 1548251, \"name\": \"Woodrow Asai\", \"order\": 42}, {\"cast_id\": 81, \"character\": \"Hansel\\'s Corner Guy\", \"credit_id\": \"566cb9f9c3a3683f56008fc3\", \"gender\": 2, \"id\": 71555, \"name\": \"Andrew Wilson\", \"order\": 43}, {\"cast_id\": 82, \"character\": \"Hansel\\'s Posse\", \"credit_id\": \"566cba3f9251412dbc0046fd\", \"gender\": 0, \"id\": 153933, \"name\": \"Vikram Chatwal\", \"order\": 44}, {\"cast_id\": 83, \"character\": \"Hansel\\'s Posse\", \"credit_id\": \"566cba49c3a36836b400cd88\", \"gender\": 0, \"id\": 1548258, \"name\": \"Kashana\", \"order\": 45}, {\"cast_id\": 84, \"character\": \"Hansel\\'s Posse\", \"credit_id\": \"566cba52c3a3683f56008fdb\", \"gender\": 0, \"id\": 1548259, \"name\": \"Jonah Luber\", \"order\": 46}, {\"cast_id\": 85, \"character\": \"Hansel\\'s Posse\", \"credit_id\": \"566cba60c3a3683f56008fe1\", \"gender\": 0, \"id\": 1548260, \"name\": \"Michael McAlpin\", \"order\": 47}, {\"cast_id\": 86, \"character\": \"Hansel\\'s Posse\", \"credit_id\": \"566cba94c3a3680e73005272\", \"gender\": 0, \"id\": 937052, \"name\": \"\\\\u00c8ve Salvail\", \"order\": 48}, {\"cast_id\": 87, \"character\": \"Hansel\\'s Posse\", \"credit_id\": \"566cbaadc3a36833b6009549\", \"gender\": 0, \"id\": 213557, \"name\": \"Shavo Odadjian\", \"order\": 49}, {\"cast_id\": 88, \"character\": \"Hansel\\'s Posse\", \"credit_id\": \"566cbaca9251415001004056\", \"gender\": 0, \"id\": 1548263, \"name\": \"Eliot Johnson\", \"order\": 50}, {\"cast_id\": 89, \"character\": \"Hansel\\'s Posse\", \"credit_id\": \"566cbad5c3a3680e73005280\", \"gender\": 0, \"id\": 1548264, \"name\": \"Richard Gladys\", \"order\": 51}, {\"cast_id\": 90, \"character\": \"Hansel\\'s Posse\", \"credit_id\": \"566cbae392514169e2009986\", \"gender\": 1, \"id\": 26046, \"name\": \"Amy Stiller\", \"order\": 52}, {\"cast_id\": 91, \"character\": \"Italian Designer\", \"credit_id\": \"566cbb92c3a3683f5600901f\", \"gender\": 2, \"id\": 104505, \"name\": \"John Vargas\", \"order\": 53}, {\"cast_id\": 50, \"character\": \"American Designer\", \"credit_id\": \"52fe44f2c3a36847f80b38fb\", \"gender\": 1, \"id\": 38334, \"name\": \"Jennifer Coolidge\", \"order\": 54}, {\"cast_id\": 92, \"character\": \"French Designer\", \"credit_id\": \"566cbbd2925141664f00976c\", \"gender\": 2, \"id\": 181461, \"name\": \"Tony Kanal\", \"order\": 55}, {\"cast_id\": 93, \"character\": \"German Designer\", \"credit_id\": \"566cbbe9c3a36836b400cddc\", \"gender\": 2, \"id\": 43461, \"name\": \"Endre Hules\", \"order\": 56}, {\"cast_id\": 51, \"character\": \"British Designer\", \"credit_id\": \"52fe44f2c3a36847f80b38ff\", \"gender\": 1, \"id\": 4496, \"name\": \"Nora Dunn\", \"order\": 57}, {\"cast_id\": 94, \"character\": \"Derek\\'s Interview Hairstylist\", \"credit_id\": \"566cbc549251415ec5009ab9\", \"gender\": 0, \"id\": 1548268, \"name\": \"Ric Pipino\", \"order\": 58}, {\"cast_id\": 95, \"character\": \"VH1 Reporter\", \"credit_id\": \"566cbc6e9251415ec5009ac6\", \"gender\": 2, \"id\": 15801, \"name\": \"Jerry Stahl\", \"order\": 59}, {\"cast_id\": 96, \"character\": \"Mugatu Model\", \"credit_id\": \"566cbc899251415ec5009acd\", \"gender\": 1, \"id\": 174107, \"name\": \"Jennifer McComb\", \"order\": 60}, {\"cast_id\": 97, \"character\": \"Mugatu Bodyguard\", \"credit_id\": \"566cbcb4c3a36833b60095c4\", \"gender\": 2, \"id\": 101017, \"name\": \"Johann Urb\", \"order\": 61}, {\"cast_id\": 98, \"character\": \"Mugatu Bodyguard\", \"credit_id\": \"566cbcc2c3a36833b60095cc\", \"gender\": 0, \"id\": 1548269, \"name\": \"Luc Commeret\", \"order\": 62}, {\"cast_id\": 99, \"character\": \"Time Magazine Reader\", \"credit_id\": \"566cbcd192514150010040bf\", \"gender\": 0, \"id\": 1548270, \"name\": \"Herb Lieberz\", \"order\": 63}, {\"cast_id\": 100, \"character\": \"Night Club Door Person\", \"credit_id\": \"566cbd3c9251412dbc0047b7\", \"gender\": 0, \"id\": 1548271, \"name\": \"Zoya\", \"order\": 64}, {\"cast_id\": 101, \"character\": \"Night Club Security\", \"credit_id\": \"566cbd4d92514169e2009a07\", \"gender\": 0, \"id\": 1548272, \"name\": \"Colin McNish\", \"order\": 65}, {\"cast_id\": 102, \"character\": \"Night Club Security\", \"credit_id\": \"566cbd5992514169e2009a0f\", \"gender\": 0, \"id\": 1548273, \"name\": \"Darren Copeland\", \"order\": 66}, {\"cast_id\": 103, \"character\": \"Night Club Bouncer / Biff\", \"credit_id\": \"566cbd79c3a36833b60095f0\", \"gender\": 0, \"id\": 1548274, \"name\": \"Richard Stanley\", \"order\": 67}, {\"cast_id\": 104, \"character\": \"Night Club Bouncer / Maurice\", \"credit_id\": \"566cbd9392514169e2009a25\", \"gender\": 0, \"id\": 1548275, \"name\": \"Shabazz Richardson\", \"order\": 68}, {\"cast_id\": 105, \"character\": \"Night Club Bouncer\", \"credit_id\": \"566cbda092514125d30048c5\", \"gender\": 0, \"id\": 1548276, \"name\": \"Rohan Quine\", \"order\": 69}, {\"cast_id\": 106, \"character\": \"Billy Zane\\'s Date\", \"credit_id\": \"566cbdd992514169e2009a3f\", \"gender\": 0, \"id\": 1548278, \"name\": \"Svetlana\", \"order\": 70}, {\"cast_id\": 107, \"character\": \"Rico\", \"credit_id\": \"566cbdf892514173ff00db75\", \"gender\": 2, \"id\": 1025909, \"name\": \"Eric Winzenreid\", \"order\": 71}, {\"cast_id\": 108, \"character\": \"Abraham Lincoln\", \"credit_id\": \"566cbe0b9251415ec5009b26\", \"gender\": 0, \"id\": 1548280, \"name\": \"Charles Brame\", \"order\": 72}, {\"cast_id\": 52, \"character\": \"John Wilkes Booth\", \"credit_id\": \"52fe44f2c3a36847f80b3903\", \"gender\": 2, \"id\": 11006, \"name\": \"James Marsden\", \"order\": 73}, {\"cast_id\": 111, \"character\": \"JFK Assassin\", \"credit_id\": \"566cbe9f9251412dbc004812\", \"gender\": 0, \"id\": 1548282, \"name\": \"Rudy Segura\", \"order\": 74}, {\"cast_id\": 110, \"character\": \"JFK Assassin\", \"credit_id\": \"566cbe9a925141664f009812\", \"gender\": 2, \"id\": 95825, \"name\": \"Randall Slavin\", \"order\": 75}, {\"cast_id\": 53, \"character\": \"Monkey Photographer\", \"credit_id\": \"52fe44f2c3a36847f80b3907\", \"gender\": 2, \"id\": 10872, \"name\": \"Patton Oswalt\", \"order\": 76}, {\"cast_id\": 112, \"character\": \"Irina\", \"credit_id\": \"566cbf51c3a36834c10099ab\", \"gender\": 0, \"id\": 69532, \"name\": \"Irina Pantaeva\", \"order\": 77}, {\"cast_id\": 113, \"character\": \"Sherpa\", \"credit_id\": \"566cbf80c3a368535a00a065\", \"gender\": 0, \"id\": 1548285, \"name\": \"Stan Chu\", \"order\": 78}, {\"cast_id\": 114, \"character\": \"Climber\", \"credit_id\": \"566cbfb5c3a3682e980092d5\", \"gender\": 0, \"id\": 1548286, \"name\": \"Kum Ming Ho\", \"order\": 79}, {\"cast_id\": 115, \"character\": \"Cool Tattoo Girl\", \"credit_id\": \"566cbfdcc3a3682e980092df\", \"gender\": 1, \"id\": 1232610, \"name\": \"Theo Kogan\", \"order\": 80}, {\"cast_id\": 116, \"character\": \"Dalai Lama Guy\", \"credit_id\": \"566cbff3c3a36834c10099c7\", \"gender\": 0, \"id\": 1548287, \"name\": \"Lam Bor\", \"order\": 81}, {\"cast_id\": 117, \"character\": \"Funky Loft Guest\", \"credit_id\": \"566cc00192514125d300494f\", \"gender\": 0, \"id\": 1548288, \"name\": \"Angel 11:11\", \"order\": 82}, {\"cast_id\": 118, \"character\": \"Funky Loft Guest\", \"credit_id\": \"566cc0289251415001004166\", \"gender\": 0, \"id\": 1232526, \"name\": \"Luther Creek\", \"order\": 83}, {\"cast_id\": 119, \"character\": \"Funky Loft Guest\", \"credit_id\": \"566cc042c3a36826470095b5\", \"gender\": 0, \"id\": 106433, \"name\": \"Dechen Thurman\", \"order\": 84}, {\"cast_id\": 120, \"character\": \"Funky Loft Guest\", \"credit_id\": \"566cc081c3a368535a00a098\", \"gender\": 0, \"id\": 1548289, \"name\": \"Kenny Max\", \"order\": 85}, {\"cast_id\": 121, \"character\": \"Ennui\", \"credit_id\": \"566cc0b1925141738300904a\", \"gender\": 0, \"id\": 1548290, \"name\": \"Kina\", \"order\": 86}, {\"cast_id\": 122, \"character\": \"Maori Tribesman\", \"credit_id\": \"566cc0f692514169e2009aea\", \"gender\": 0, \"id\": 111514, \"name\": \"David Pressman\", \"order\": 87}, {\"cast_id\": 123, \"character\": \"Janitor Derek\", \"credit_id\": \"566cc10f92514169e2009aee\", \"gender\": 0, \"id\": 73831, \"name\": \"Godfrey\", \"order\": 88}, {\"cast_id\": 124, \"character\": \"Janitor Hansel\", \"credit_id\": \"566cc11b92514125d300498e\", \"gender\": 0, \"id\": 1548291, \"name\": \"Taj Crown\", \"order\": 89}, {\"cast_id\": 125, \"character\": \"Derelicte Doorman\", \"credit_id\": \"566cc13292514173ff00dc17\", \"gender\": 0, \"id\": 130229, \"name\": \"Richie Rich\", \"order\": 90}, {\"cast_id\": 126, \"character\": \"Derelicte Bouncer\", \"credit_id\": \"566cc158c3a36833b60096bc\", \"gender\": 0, \"id\": 1548292, \"name\": \"King\", \"order\": 91}, {\"cast_id\": 127, \"character\": \"Derek\\'s Derelicte Hairstylist\", \"credit_id\": \"566cc17692514169e2009b01\", \"gender\": 0, \"id\": 1548293, \"name\": \"Frederic Fekkai\", \"order\": 92}, {\"cast_id\": 128, \"character\": \"Derek\\'s Derelicte Make-up Artist\", \"credit_id\": \"566cc197c3a36833b60096cc\", \"gender\": 0, \"id\": 1236784, \"name\": \"Kevyn Aucoin\", \"order\": 93}, {\"cast_id\": 129, \"character\": \"Zoolander Center Student\", \"credit_id\": \"566cc1afc3a36836b400cf08\", \"gender\": 0, \"id\": 1548294, \"name\": \"Boris Kachscovsky\", \"order\": 94}, {\"cast_id\": 130, \"character\": \"Infomercial Director\", \"credit_id\": \"566cc20f92514125d30049c9\", \"gender\": 0, \"id\": 1548295, \"name\": \"Mitch Winston\", \"order\": 95}, {\"cast_id\": 131, \"character\": \"Derek, Jr.\", \"credit_id\": \"566cc21d92514125d30049d1\", \"gender\": 0, \"id\": 1548296, \"name\": \"Mason Webb\", \"order\": 96}, {\"cast_id\": 132, \"character\": \"Story Hour Girl\", \"credit_id\": \"566cc23fc3a368535a00a104\", \"gender\": 1, \"id\": 152302, \"name\": \"Alexa Nikolas\", \"order\": 97}, {\"cast_id\": 54, \"character\": \"Herself (uncredited)\", \"credit_id\": \"52fe44f2c3a36847f80b390b\", \"gender\": 1, \"id\": 47983, \"name\": \"Victoria Beckham\", \"order\": 98}, {\"cast_id\": 133, \"character\": \"Himself (uncredited)\", \"credit_id\": \"566cc2cac3a36834c1009a55\", \"gender\": 2, \"id\": 10961, \"name\": \"Gavin Rossdale\", \"order\": 99}, {\"cast_id\": 57, \"character\": \"Herself (uncredited)\", \"credit_id\": \"52fe44f2c3a36847f80b3917\", \"gender\": 1, \"id\": 1920, \"name\": \"Winona Ryder\", \"order\": 100}, {\"cast_id\": 58, \"character\": \"Luke Zoolander (uncredited)\", \"credit_id\": \"52fe44f2c3a36847f80b391b\", \"gender\": 2, \"id\": 4937, \"name\": \"Vince Vaughn\", \"order\": 101}, {\"cast_id\": 59, \"character\": \"Himself (uncredited)\", \"credit_id\": \"52fe44f3c3a36847f80b391f\", \"gender\": 2, \"id\": 1954, \"name\": \"Billy Zane\", \"order\": 102}, {\"cast_id\": 134, \"character\": \"Himself\", \"credit_id\": \"56f93310925141710500362a\", \"gender\": 2, \"id\": 170874, \"name\": \"Fabio\", \"order\": 103}, {\"cast_id\": 135, \"character\": \"Model\", \"credit_id\": \"57ba96449251414322004e39\", \"gender\": 0, \"id\": 1316507, \"name\": \"Klara Landrat\", \"order\": 104}]',\n",
       " 'crew': '[{\"credit_id\": \"556f8417925141326c0008cb\", \"department\": \"Production\", \"gender\": 1, \"id\": 546, \"job\": \"Casting\", \"name\": \"Jeanne McCarthy\"}, {\"credit_id\": \"581d0d9bc3a3685923000ce3\", \"department\": \"Writing\", \"gender\": 2, \"id\": 2043, \"job\": \"Storyboard\", \"name\": \"John Davis\"}, {\"credit_id\": \"52fe44f2c3a36847f80b3873\", \"department\": \"Production\", \"gender\": 2, \"id\": 2997, \"job\": \"Producer\", \"name\": \"Scott Rudin\"}, {\"credit_id\": \"581d07bc925141370f001cb7\", \"department\": \"Production\", \"gender\": 1, \"id\": 4183, \"job\": \"Unit Production Manager\", \"name\": \"Celia D. Costas\"}, {\"credit_id\": \"556f83e0c3a3681062000b5a\", \"department\": \"Production\", \"gender\": 1, \"id\": 4183, \"job\": \"Co-Producer\", \"name\": \"Celia D. Costas\"}, {\"credit_id\": \"56320b8bc3a3681b54012a9a\", \"department\": \"Costume & Make-Up\", \"gender\": 2, \"id\": 4190, \"job\": \"Costume Design\", \"name\": \"David C. Robinson\"}, {\"credit_id\": \"52fe44f2c3a36847f80b3891\", \"department\": \"Sound\", \"gender\": 2, \"id\": 6489, \"job\": \"Original Music Composer\", \"name\": \"David Arnold\"}, {\"credit_id\": \"556f83eb9251410869000b5a\", \"department\": \"Production\", \"gender\": 1, \"id\": 6738, \"job\": \"Associate Producer\", \"name\": \"Monica Levinson\"}, {\"credit_id\": \"52fe44f2c3a36847f80b3855\", \"department\": \"Writing\", \"gender\": 2, \"id\": 7399, \"job\": \"Screenplay\", \"name\": \"Ben Stiller\"}, {\"credit_id\": \"52fe44f2c3a36847f80b383d\", \"department\": \"Directing\", \"gender\": 2, \"id\": 7399, \"job\": \"Director\", \"name\": \"Ben Stiller\"}, {\"credit_id\": \"52fe44f2c3a36847f80b3885\", \"department\": \"Production\", \"gender\": 2, \"id\": 7399, \"job\": \"Producer\", \"name\": \"Ben Stiller\"}, {\"credit_id\": \"52fe44f2c3a36847f80b3849\", \"department\": \"Writing\", \"gender\": 2, \"id\": 7399, \"job\": \"Characters\", \"name\": \"Ben Stiller\"}, {\"credit_id\": \"581d0830c3a3681e10001d49\", \"department\": \"Directing\", \"gender\": 1, \"id\": 10390, \"job\": \"Assistant Director\", \"name\": \"Amy Sayres\"}, {\"credit_id\": \"581d0d849251416611000bee\", \"department\": \"Visual Effects\", \"gender\": 0, \"id\": 14194, \"job\": \"Visual Effects Supervisor\", \"name\": \"David D. Johnson\"}, {\"credit_id\": \"556f8403c3a3681068000a0a\", \"department\": \"Production\", \"gender\": 1, \"id\": 14377, \"job\": \"Casting\", \"name\": \"Juel Bestrop\"}, {\"credit_id\": \"52fe44f2c3a36847f80b38a3\", \"department\": \"Editing\", \"gender\": 2, \"id\": 14376, \"job\": \"Editor\", \"name\": \"Greg Hayden\"}, {\"credit_id\": \"581d0d059251416611000ba8\", \"department\": \"Sound\", \"gender\": 2, \"id\": 13596, \"job\": \"Sound Mixer\", \"name\": \"David Kirschner\"}, {\"credit_id\": \"581d0701c3a36859740008df\", \"department\": \"Crew\", \"gender\": 2, \"id\": 16498, \"job\": \"Special Effects Coordinator\", \"name\": \"John Hartigan\"}, {\"credit_id\": \"52fe44f2c3a36847f80b3861\", \"department\": \"Writing\", \"gender\": 2, \"id\": 17871, \"job\": \"Screenplay\", \"name\": \"John Hamburg\"}, {\"credit_id\": \"581d0358c3a3685b3a0005bc\", \"department\": \"Art\", \"gender\": 0, \"id\": 21148, \"job\": \"Art Direction\", \"name\": \"Stephen Alesch\"}, {\"credit_id\": \"52fe44f2c3a36847f80b3867\", \"department\": \"Production\", \"gender\": 2, \"id\": 22302, \"job\": \"Producer\", \"name\": \"Stuart Cornfeld\"}, {\"credit_id\": \"581d0597925141370f001b6c\", \"department\": \"Costume & Make-Up\", \"gender\": 0, \"id\": 32490, \"job\": \"Hair Designer\", \"name\": \"Alan D\\'Angerio\"}, {\"credit_id\": \"56320af29251414ab701064d\", \"department\": \"Sound\", \"gender\": 2, \"id\": 52161, \"job\": \"Music Supervisor\", \"name\": \"Randall Poster\"}, {\"credit_id\": \"556f840d9251410866000a9d\", \"department\": \"Production\", \"gender\": 1, \"id\": 46943, \"job\": \"Casting\", \"name\": \"Kathleen Chopin\"}, {\"credit_id\": \"52fe44f2c3a36847f80b389d\", \"department\": \"Camera\", \"gender\": 2, \"id\": 54164, \"job\": \"Director of Photography\", \"name\": \"Barry Peterson\"}, {\"credit_id\": \"581d0c86925141370f001f47\", \"department\": \"Sound\", \"gender\": 2, \"id\": 58257, \"job\": \"Orchestrator\", \"name\": \"Nicholas Dodd\"}, {\"credit_id\": \"52fe44f2c3a36847f80b384f\", \"department\": \"Writing\", \"gender\": 2, \"id\": 57603, \"job\": \"Screenplay\", \"name\": \"Drake Sather\"}, {\"credit_id\": \"52fe44f2c3a36847f80b3843\", \"department\": \"Writing\", \"gender\": 2, \"id\": 57603, \"job\": \"Characters\", \"name\": \"Drake Sather\"}, {\"credit_id\": \"52fe44f2c3a36847f80b386d\", \"department\": \"Production\", \"gender\": 2, \"id\": 57604, \"job\": \"Executive Producer\", \"name\": \"Joel Gallen\"}, {\"credit_id\": \"52fe44f2c3a36847f80b3879\", \"department\": \"Production\", \"gender\": 2, \"id\": 11303, \"job\": \"Executive Producer\", \"name\": \"Adam Schroeder\"}, {\"credit_id\": \"52fe44f2c3a36847f80b388b\", \"department\": \"Production\", \"gender\": 1, \"id\": 57605, \"job\": \"Executive Producer\", \"name\": \"Lauren Zalaznick\"}, {\"credit_id\": \"581d0995925141673d0009ff\", \"department\": \"Production\", \"gender\": 0, \"id\": 61108, \"job\": \"Casting Associate\", \"name\": \"Blythe Cappello\"}, {\"credit_id\": \"56320b3f9251414ab7010658\", \"department\": \"Art\", \"gender\": 1, \"id\": 62517, \"job\": \"Production Design\", \"name\": \"Robin Standefer\"}, {\"credit_id\": \"581d0476c3a3681ed10019c3\", \"department\": \"Art\", \"gender\": 0, \"id\": 92347, \"job\": \"Greensman\", \"name\": \"Richard Boris\"}, {\"credit_id\": \"581d0ca3925141673d000b9c\", \"department\": \"Sound\", \"gender\": 0, \"id\": 91092, \"job\": \"Production Sound Mixer\", \"name\": \"Danny Michael\"}, {\"credit_id\": \"581d072fc3a3685b3a0007fa\", \"department\": \"Crew\", \"gender\": 2, \"id\": 146143, \"job\": \"Stunt Coordinator\", \"name\": \"Brad Martin\"}, {\"credit_id\": \"581d05cbc3a3685b0200088e\", \"department\": \"Costume & Make-Up\", \"gender\": 0, \"id\": 229801, \"job\": \"Makeup Artist\", \"name\": \"Kate Biscoe\"}, {\"credit_id\": \"581d0c4292514135d4002122\", \"department\": \"Sound\", \"gender\": 2, \"id\": 1008052, \"job\": \"Music Editor\", \"name\": \"Jonathan Karp\"}, {\"credit_id\": \"581d0544925141370f001b3e\", \"department\": \"Camera\", \"gender\": 0, \"id\": 1177850, \"job\": \"Still Photographer\", \"name\": \"Fran\\\\u00e7ois Duhamel\"}, {\"credit_id\": \"56320ade92514129fe00521c\", \"department\": \"Sound\", \"gender\": 2, \"id\": 1192700, \"job\": \"Music Supervisor\", \"name\": \"George Drakoulias\"}, {\"credit_id\": \"581d071992514166f000087c\", \"department\": \"Crew\", \"gender\": 2, \"id\": 1269611, \"job\": \"Stand In\", \"name\": \"LeJon\"}, {\"credit_id\": \"581d055f92514166f0000777\", \"department\": \"Costume & Make-Up\", \"gender\": 0, \"id\": 1311133, \"job\": \"Assistant Costume Designer\", \"name\": \"Frank L. Fleming\"}, {\"credit_id\": \"581d0d2092514166f0000bd8\", \"department\": \"Sound\", \"gender\": 0, \"id\": 1344264, \"job\": \"Supervising Sound Editor\", \"name\": \"Robert Grieve\"}, {\"credit_id\": \"581d0d3b925141344d002220\", \"department\": \"Visual Effects\", \"gender\": 0, \"id\": 1360108, \"job\": \"Digital Compositors\", \"name\": \"Don Lee\"}, {\"credit_id\": \"581d0422c3a3685b0200075c\", \"department\": \"Art\", \"gender\": 0, \"id\": 1378221, \"job\": \"Art Department Coordinator\", \"name\": \"Melody Bishop\"}, {\"credit_id\": \"581d074692514135d4001e8a\", \"department\": \"Crew\", \"gender\": 0, \"id\": 1386317, \"job\": \"Stunts\", \"name\": \"Clayton J. Barber\"}, {\"credit_id\": \"581d0850c3a3681ed1001c08\", \"department\": \"Directing\", \"gender\": 1, \"id\": 1393455, \"job\": \"Script Supervisor\", \"name\": \"Eva Z. Cabrera\"}, {\"credit_id\": \"581d043cc3a3685b0200076c\", \"department\": \"Art\", \"gender\": 0, \"id\": 1395330, \"job\": \"Assistant Art Director\", \"name\": \"Kyung W. Chang\"}, {\"credit_id\": \"581d0512925141344d001d86\", \"department\": \"Camera\", \"gender\": 0, \"id\": 1400375, \"job\": \"Helicopter Camera\", \"name\": \"David Norris\"}, {\"credit_id\": \"581d0cbac3a3681ed1001ee8\", \"department\": \"Sound\", \"gender\": 0, \"id\": 1403440, \"job\": \"Sound Editor\", \"name\": \"Yann Delpuech\"}, {\"credit_id\": \"581d087ec3a36859640009d1\", \"department\": \"Editing\", \"gender\": 0, \"id\": 1404838, \"job\": \"Dialogue Editor\", \"name\": \"Frank Smathers\"}, {\"credit_id\": \"581d0805c3a3685974000970\", \"department\": \"Crew\", \"gender\": 2, \"id\": 1406053, \"job\": \"Video Assist Operator\", \"name\": \"Joel Holland\"}, {\"credit_id\": \"581d05e1925141344d001e06\", \"department\": \"Costume & Make-Up\", \"gender\": 0, \"id\": 1409821, \"job\": \"Makeup Designer\", \"name\": \"Naomi Donne\"}, {\"credit_id\": \"581d0db79251416611000c19\", \"department\": \"Sound\", \"gender\": 0, \"id\": 1412242, \"job\": \"Dolby Consultant\", \"name\": \"Thom \\'Coach\\' Ehle\"}, {\"credit_id\": \"581d06e3c3a3685964000900\", \"department\": \"Crew\", \"gender\": 0, \"id\": 1413452, \"job\": \"Sound Recordist\", \"name\": \"Bill Meadows\"}, {\"credit_id\": \"581d052d925141344d001d97\", \"department\": \"Camera\", \"gender\": 0, \"id\": 1420160, \"job\": \"Steadicam Operator\", \"name\": \"Dan Kneece\"}, {\"credit_id\": \"581d06c2c3a3685b02000935\", \"department\": \"Crew\", \"gender\": 0, \"id\": 1425980, \"job\": \"Sequence Supervisor\", \"name\": \"Fortunato Frattasio\"}, {\"credit_id\": \"581d09acc3a3681ed1001ccc\", \"department\": \"Production\", \"gender\": 0, \"id\": 1433348, \"job\": \"Location Manager\", \"name\": \"Jerry Jaffe\"}, {\"credit_id\": \"581d0d56925141673d000c03\", \"department\": \"Visual Effects\", \"gender\": 0, \"id\": 1442142, \"job\": \"Visual Effects Coordinator\", \"name\": \"Walter Garcia\"}, {\"credit_id\": \"581d04ee925141673d000778\", \"department\": \"Camera\", \"gender\": 0, \"id\": 1460019, \"job\": \"Camera Operator\", \"name\": \"Patrick Capone\"}, {\"credit_id\": \"581d05b792514166110007a7\", \"department\": \"Costume & Make-Up\", \"gender\": 0, \"id\": 1460739, \"job\": \"Hairstylist\", \"name\": \"Catherine Childers\"}, {\"credit_id\": \"581d058292514166f3000750\", \"department\": \"Costume & Make-Up\", \"gender\": 0, \"id\": 1470185, \"job\": \"Costume Supervisor\", \"name\": \"Joanna Brett\"}, {\"credit_id\": \"581d04d5c3a3685b3a00069e\", \"department\": \"Camera\", \"gender\": 0, \"id\": 1472426, \"job\": \"Additional Photography\", \"name\": \"Clyde W. Smith\"}, {\"credit_id\": \"581d062dc3a3681e10001c28\", \"department\": \"Crew\", \"gender\": 0, \"id\": 1535098, \"job\": \"Additional Music\", \"name\": \"Randy Kerber\"}, {\"credit_id\": \"581d045b92514167610006c5\", \"department\": \"Art\", \"gender\": 0, \"id\": 1535413, \"job\": \"Construction Coordinator\", \"name\": \"Fred Merusi\"}, {\"credit_id\": \"581d0d6dc3a3685974000c42\", \"department\": \"Visual Effects\", \"gender\": 0, \"id\": 1537540, \"job\": \"Visual Effects Producer\", \"name\": \"Carole Cowley\"}, {\"credit_id\": \"581d04bfc3a368596400079f\", \"department\": \"Camera\", \"gender\": 0, \"id\": 1550197, \"job\": \"Additional Camera\", \"name\": \"Gerard Sava\"}, {\"credit_id\": \"581d07ef92514135d4001ee9\", \"department\": \"Crew\", \"gender\": 0, \"id\": 1550728, \"job\": \"Unit Publicist\", \"name\": \"Eric Myers\"}, {\"credit_id\": \"581d0868c3a36859640009c4\", \"department\": \"Editing\", \"gender\": 2, \"id\": 1562248, \"job\": \"Color Timer\", \"name\": \"Dennis McNeill\"}, {\"credit_id\": \"581d0766c3a3685ac90008ee\", \"department\": \"Crew\", \"gender\": 0, \"id\": 1605411, \"job\": \"Systems Administrators & Support\", \"name\": \"Mitch Goldstrom\"}, {\"credit_id\": \"581d06aac3a368592300091b\", \"department\": \"Crew\", \"gender\": 0, \"id\": 1625919, \"job\": \"Security\", \"name\": \"Wayne Petrucelli\"}, {\"credit_id\": \"581d09e992514166110009f0\", \"department\": \"Production\", \"gender\": 0, \"id\": 1701766, \"job\": \"Production Coordinator\", \"name\": \"Lizz Grant\"}, {\"credit_id\": \"581d037592514166f0000641\", \"department\": \"Art\", \"gender\": 0, \"id\": 1704229, \"job\": \"Set Decoration\", \"name\": \"Donna Hamilton\"}, {\"credit_id\": \"581d048fc3a3681ed10019da\", \"department\": \"Art\", \"gender\": 0, \"id\": 1704231, \"job\": \"Location Scout\", \"name\": \"Guy Efrat\"}, {\"credit_id\": \"581d04aa92514135d4001ce2\", \"department\": \"Art\", \"gender\": 0, \"id\": 1704232, \"job\": \"Set Designer\", \"name\": \"Aric Lasher\"}, {\"credit_id\": \"581d0505c3a3681ed1001a35\", \"department\": \"Camera\", \"gender\": 0, \"id\": 1704233, \"job\": \"First Assistant Camera\", \"name\": \"Sam DiMaggio\"}, {\"credit_id\": \"581d05f9c3a3685964000861\", \"department\": \"Costume & Make-Up\", \"gender\": 0, \"id\": 1704234, \"job\": \"Set Costumer\", \"name\": \"Joseph La Corte\"}, {\"credit_id\": \"581d060cc3a3685b3a000767\", \"department\": \"Costume & Make-Up\", \"gender\": 0, \"id\": 1704235, \"job\": \"Set Dressing Artist\", \"name\": \"Wayne Brackett\"}, {\"credit_id\": \"581d061e925141370f001bca\", \"department\": \"Costume & Make-Up\", \"gender\": 0, \"id\": 1704236, \"job\": \"Wigmaker\", \"name\": \"Jessica Marshall\"}, {\"credit_id\": \"581d065292514166f0000815\", \"department\": \"Crew\", \"gender\": 0, \"id\": 1704237, \"job\": \"Carpenter\", \"name\": \"Scott Gertsen\"}, {\"credit_id\": \"581d065ec3a3685974000880\", \"department\": \"Crew\", \"gender\": 0, \"id\": 1704238, \"job\": \"Choreographer\", \"name\": \"Joey McKneely\"}, {\"credit_id\": \"581d066ac3a36859640008b8\", \"department\": \"Crew\", \"gender\": 0, \"id\": 1704239, \"job\": \"Craft Service\", \"name\": \"Kendra Levenberg\"}, {\"credit_id\": \"581d0676c3a3685b02000902\", \"department\": \"Crew\", \"gender\": 0, \"id\": 1704240, \"job\": \"Loader\", \"name\": \"Caesar S. Carnevale\"}, {\"credit_id\": \"581d0686925141344d001e68\", \"department\": \"Crew\", \"gender\": 0, \"id\": 1704241, \"job\": \"Property Master\", \"name\": \"Peter S. Clarke\"}, {\"credit_id\": \"581d0692925141344d001e72\", \"department\": \"Crew\", \"gender\": 0, \"id\": 1704242, \"job\": \"Scenic Artist\", \"name\": \"Jim Dolson\"}, {\"credit_id\": \"581d06d592514135d4001e51\", \"department\": \"Crew\", \"gender\": 0, \"id\": 1704243, \"job\": \"Set Medic\", \"name\": \"Maureen Beitler\"}, {\"credit_id\": \"581d07a2c3a3685b020009b3\", \"department\": \"Crew\", \"gender\": 0, \"id\": 1704251, \"job\": \"Transportation Co-Captain\", \"name\": \"Guy Merrick\"}, {\"credit_id\": \"581d07aec3a368597400094a\", \"department\": \"Crew\", \"gender\": 0, \"id\": 1704252, \"job\": \"Transportation Coordinator\", \"name\": \"Michael Merrick\"}, {\"credit_id\": \"581d08b7c3a36859640009e8\", \"department\": \"Lighting\", \"gender\": 0, \"id\": 1704253, \"job\": \"Electrician\", \"name\": \"Kelly Connors\"}, {\"credit_id\": \"581d0988c3a3685b02000ace\", \"department\": \"Lighting\", \"gender\": 2, \"id\": 1704254, \"job\": \"Rigging Grip\", \"name\": \"Robert Anderson\"}, {\"credit_id\": \"581d09d6c3a3685b02000af1\", \"department\": \"Production\", \"gender\": 0, \"id\": 1704255, \"job\": \"Production Accountant\", \"name\": \"Maggie Kusik\"}, {\"credit_id\": \"581d0bdcc3a3685923000bf1\", \"department\": \"Sound\", \"gender\": 0, \"id\": 1704257, \"job\": \"Boom Operator\", \"name\": \"Perry Dodgson\"}, {\"credit_id\": \"581d0be9c3a3681e10001f30\", \"department\": \"Sound\", \"gender\": 0, \"id\": 1704258, \"job\": \"First Assistant Sound Editor\", \"name\": \"Dan Blazi\"}, {\"credit_id\": \"581d0c35c3a3685b3a000a88\", \"department\": \"Sound\", \"gender\": 0, \"id\": 1704259, \"job\": \"Foley\", \"name\": \"Harold Burke\"}, {\"credit_id\": \"581d0cf7925141370f001f7e\", \"department\": \"Sound\", \"gender\": 0, \"id\": 1704260, \"job\": \"Sound Effects Editor\", \"name\": \"Christopher Emerson\"}]'}"
      ]
     },
     "execution_count": 17,
     "metadata": {},
     "output_type": "execute_result"
    }
   ],
   "source": [
    "df.sample(1).to_dict(orient = 'records')[0]"
   ]
  },
  {
   "cell_type": "code",
   "execution_count": null,
   "id": "6d78fd08",
   "metadata": {},
   "outputs": [],
   "source": [
    "for i in range(len(df)):\n",
    "    live_data = df.sample(1).to_dict(orient='records')[0]\n",
    "    producer.send('demo',value = live_data)\n",
    "    sleep(1)"
   ]
  },
  {
   "cell_type": "code",
   "execution_count": null,
   "id": "b2d1c39c",
   "metadata": {},
   "outputs": [],
   "source": [
    "while True:\n",
    "     plivedata = df.sample(1).to_dict(orient='records')[0]\n",
    "     producer.send('demo',value = stock_data)\n",
    "     sleep(1)"
   ]
  }
 ],
 "metadata": {
  "kernelspec": {
   "display_name": "Python 3 (ipykernel)",
   "language": "python",
   "name": "python3"
  },
  "language_info": {
   "codemirror_mode": {
    "name": "ipython",
    "version": 3
   },
   "file_extension": ".py",
   "mimetype": "text/x-python",
   "name": "python",
   "nbconvert_exporter": "python",
   "pygments_lexer": "ipython3",
   "version": "3.11.4"
  }
 },
 "nbformat": 4,
 "nbformat_minor": 5
}
